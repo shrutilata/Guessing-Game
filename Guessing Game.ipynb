{
 "cells": [
  {
   "cell_type": "markdown",
   "metadata": {},
   "source": [
    "# Guessing Game"
   ]
  },
  {
   "cell_type": "code",
   "execution_count": 13,
   "metadata": {
    "scrolled": true
   },
   "outputs": [
    {
     "name": "stdout",
     "output_type": "stream",
     "text": [
      "Enter your name: Shruti\n",
      "Hello Shruti! Welcome to the guessing game!\n",
      "o p _ _ s o _ _ _ _ \n",
      "Guess a character: e\n",
      "o p e _ s o _ _ _ e \n",
      "Guess a character: n\n",
      "o p e n s o _ _ _ e \n",
      "Guess a character: u\n",
      "o p e n s o u _ _ e \n",
      "Guess a character: r\n",
      "o p e n s o u r _ e \n",
      "Guess a character: c\n",
      "o p e n s o u r c e \n",
      "You Won!\n",
      "Your score is 100\n",
      "Do You Want to play again? (Yes/No) No\n",
      "Thanks for playing\n"
     ]
    }
   ],
   "source": [
    "import random\n",
    "\n",
    "name = input(\"Enter your name: \")\n",
    "print(f\"Hello {name}! Welcome to the guessing game!\")\n",
    "words = [\"guessing\",'earphones',\"macbook\",\"television\",\"sunset\",\"opensource\"]\n",
    "\n",
    "#get a random word from the list\n",
    "\n",
    "index = random.randint(0, len(words))\n",
    "word = words[index]\n",
    "indexes = random.sample(range(0, len(words)), 3)\n",
    "\n",
    "guesses = \"\" #characters that the user has guessed so far\n",
    "\n",
    "for i in indexes:\n",
    "    guesses += word[i]\n",
    "    \n",
    "chances = 10\n",
    "\n",
    "play = \"Yes\"\n",
    "\n",
    "def playagain():\n",
    "    # this will help you understand scoping\n",
    "    global play\n",
    "    play = input(\"Do You Want to play again? (Yes/No) \")\n",
    "    if play == \"Yes\":\n",
    "        global chances, word, guesses\n",
    "        chances = 10\n",
    "        index = random.randint(0, len(words))\n",
    "        word = words[index]\n",
    "        indexes = random.sample(range(0, len(words)), 3)\n",
    "        guesses = \"\"\n",
    "        for i in indexes:\n",
    "            guesses += word[i]\n",
    "\n",
    "while play==\"Yes\":\n",
    "    while chances > 0:\n",
    "        won = True\n",
    "        for ch in word:\n",
    "            if ch in guesses: # the person has guessed\n",
    "                print(ch, end=\" \")\n",
    "            else:\n",
    "                print(\"_\",end=\" \")\n",
    "                won = False\n",
    "        if won:\n",
    "            print(\"\\nYou Won!\")\n",
    "            print(f\"Your score is {chances * 10}\")\n",
    "            playagain()\n",
    "            break\n",
    "\n",
    "        # take a guess from the user\n",
    "        guess = input(\"\\nGuess a character: \")\n",
    "        guesses += guess\n",
    "\n",
    "        if guess not in word:\n",
    "            chances -= 1\n",
    "            print(\"\\nWrong Answer\")\n",
    "            print(f\"You have {chances} chances left!\")\n",
    "\n",
    "            if chances == 0:\n",
    "                print(\"You Lose!\")\n",
    "                playagain()\n",
    "                break\n",
    "                \n",
    "print(\"Thanks for playing\")"
   ]
  },
  {
   "cell_type": "code",
   "execution_count": null,
   "metadata": {},
   "outputs": [],
   "source": []
  },
  {
   "cell_type": "code",
   "execution_count": null,
   "metadata": {},
   "outputs": [],
   "source": []
  }
 ],
 "metadata": {
  "kernelspec": {
   "display_name": "Python 3",
   "language": "python",
   "name": "python3"
  },
  "language_info": {
   "codemirror_mode": {
    "name": "ipython",
    "version": 3
   },
   "file_extension": ".py",
   "mimetype": "text/x-python",
   "name": "python",
   "nbconvert_exporter": "python",
   "pygments_lexer": "ipython3",
   "version": "3.8.5"
  }
 },
 "nbformat": 4,
 "nbformat_minor": 4
}
